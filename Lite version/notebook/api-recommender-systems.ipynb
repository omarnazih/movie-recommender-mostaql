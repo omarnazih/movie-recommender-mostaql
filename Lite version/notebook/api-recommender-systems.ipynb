{
 "cells": [
  {
   "cell_type": "markdown",
   "metadata": {
    "_cell_guid": "da447453-96e3-48fe-93cd-b9195433add6",
    "_uuid": "b63091dc0b9d04f19ab8861754a83b79c1789e96"
   },
   "source": [
    "# Movies Recommender System"
   ]
  },
  {
   "cell_type": "markdown",
   "metadata": {
    "_cell_guid": "5ec09319-a139-488b-b9fa-51780fd771dc",
    "_uuid": "93799938d163a5c4d6097e04fc566c04a1237718"
   },
   "source": [
    "![](http://labs.criteo.com/wp-content/uploads/2017/08/CustomersWhoBought3.jpg)"
   ]
  },
  {
   "cell_type": "code",
   "execution_count": 1,
   "metadata": {
    "_cell_guid": "78fea705-f9ad-4a81-aafd-8b7b624110d1",
    "_uuid": "1c291fe3725c706e0003f01f0102abb9709f25fc"
   },
   "outputs": [],
   "source": [
    "import pandas as pd\n",
    "import numpy as np\n",
    "import ast, json\n",
    "from scipy import stats\n",
    "from ast import literal_eval\n",
    "from sklearn.feature_extraction.text import TfidfVectorizer, CountVectorizer\n",
    "from sklearn.metrics.pairwise import linear_kernel, cosine_similarity\n",
    "from nltk.stem.snowball import SnowballStemmer\n",
    "from nltk.stem.wordnet import WordNetLemmatizer\n",
    "from nltk.corpus import wordnet\n",
    "from surprise import Reader, Dataset, SVD\n",
    "from surprise.model_selection import cross_validate, KFold\n",
    "\n",
    "import warnings; warnings.simplefilter('ignore')"
   ]
  },
  {
   "cell_type": "markdown",
   "metadata": {
    "_cell_guid": "f130bae8-1bb0-415d-9a39-557fe180b490",
    "_uuid": "49131e65f312719487848f6ef42488041a44028e"
   },
   "source": [
    "## Simple Recommender\n"
   ]
  },
  {
   "cell_type": "code",
   "execution_count": 2,
   "metadata": {
    "_cell_guid": "0356d2a0-d8b2-4234-af78-bd51eaa3a390",
    "_uuid": "e0d62612bc9b9e9561afdc48fd1e75a9b0c82337"
   },
   "outputs": [],
   "source": [
    "md = pd. read_csv('../input/movies_metadata.csv')\n",
    "#md"
   ]
  },
  {
   "cell_type": "code",
   "execution_count": 3,
   "metadata": {
    "_cell_guid": "f933a861-409a-4df7-98f1-7960a2a3874b",
    "_uuid": "d4df4c2158595611f2ea7ad4b16f71900e529ea8"
   },
   "outputs": [],
   "source": [
    "md['genres'] = md['genres'].fillna('[]').apply(literal_eval).apply(lambda x: [i['name'] for i in x] if isinstance(x, list) else [])"
   ]
  },
  {
   "cell_type": "code",
   "execution_count": 4,
   "metadata": {
    "_cell_guid": "de5d2a9a-9d67-4309-9256-844756318bd0",
    "_uuid": "1e732487caba09d9543f3da49cbe7ff5092e2675"
   },
   "outputs": [],
   "source": [
    "vote_counts = md[md['vote_count'].notnull()]['vote_count'].astype('int')\n",
    "vote_averages = md[md['vote_average'].notnull()]['vote_average'].astype('int')\n",
    "C = vote_averages.mean()"
   ]
  },
  {
   "cell_type": "code",
   "execution_count": 5,
   "metadata": {
    "_cell_guid": "f2a3dff7-6430-471b-bd83-589779ab52b0",
    "_uuid": "23c2e113380f1bad9205ab2d0f8c372b0c246e79"
   },
   "outputs": [],
   "source": [
    "m = vote_counts.quantile(0.95)"
   ]
  },
  {
   "cell_type": "code",
   "execution_count": 6,
   "metadata": {
    "_cell_guid": "93f480df-6e7b-427c-bbc0-906fd41640b0",
    "_uuid": "dbb8261dedb84e4a8ea8bed843c9de3ad9f3859d"
   },
   "outputs": [],
   "source": [
    "md['year'] = pd.to_datetime(md['release_date'], errors='coerce').apply(lambda x: str(x).split('-')[0] if x != np.nan else np.nan)"
   ]
  },
  {
   "cell_type": "code",
   "execution_count": 7,
   "metadata": {
    "_cell_guid": "e7e91af4-7ff5-4553-bfbb-b9339096397e",
    "_uuid": "dcb30bee69ef1a6ead2c745565e5e7bfd5314d7a"
   },
   "outputs": [
    {
     "data": {
      "text/plain": [
       "(41, 6)"
      ]
     },
     "execution_count": 7,
     "metadata": {},
     "output_type": "execute_result"
    }
   ],
   "source": [
    "qualified = md[(md['vote_count'] >= m) & (md['vote_count'].notnull()) & (md['vote_average'].notnull())][['title', 'year', 'vote_count', 'vote_average', 'popularity', 'genres']]\n",
    "qualified['vote_count'] = qualified['vote_count'].astype('int')\n",
    "qualified['vote_average'] = qualified['vote_average'].astype('int')\n",
    "qualified.shape"
   ]
  },
  {
   "cell_type": "code",
   "execution_count": 8,
   "metadata": {
    "_cell_guid": "db959c40-7618-4755-a05a-5347f9460929",
    "_uuid": "6414e1aa7ed8cb4184ec451f02a18cd187e5345e"
   },
   "outputs": [],
   "source": [
    "def weighted_rating(x):\n",
    "    v = x['vote_count']\n",
    "    R = x['vote_average']\n",
    "    return (v/(v+m) * R) + (m/(m+v) * C)"
   ]
  },
  {
   "cell_type": "code",
   "execution_count": 9,
   "metadata": {
    "_cell_guid": "0f5e4384-51be-41df-a023-12a13e77d66c",
    "_uuid": "78ec5052b0e89ae51a834aa3a305cf55b6849f42"
   },
   "outputs": [],
   "source": [
    "qualified['wr'] = qualified.apply(weighted_rating, axis=1)"
   ]
  },
  {
   "cell_type": "code",
   "execution_count": 10,
   "metadata": {
    "_cell_guid": "ccbd8eca-cbfe-4843-9885-de11976f117c",
    "_uuid": "ed0ac7c8483f904d4f5ec0d554096d4782fa8bcf"
   },
   "outputs": [],
   "source": [
    "qualified = qualified.sort_values('wr', ascending=False).head(250)"
   ]
  },
  {
   "cell_type": "markdown",
   "metadata": {
    "_cell_guid": "36a1b9ac-aff3-4d80-9e19-83a45f282062",
    "_uuid": "75eb9e1de05386d229746785a25c6a5c6ee4b61a"
   },
   "source": [
    "### Top Movies"
   ]
  },
  {
   "cell_type": "code",
   "execution_count": 11,
   "metadata": {
    "_cell_guid": "c6be871d-62d4-4ec4-abe4-6ca1b1c01fa0",
    "_uuid": "b59a35544efcd50e89e4bb1ea14bbfe32fc9bcd3"
   },
   "outputs": [],
   "source": [
    "s = md.apply(lambda x: pd.Series(x['genres']),axis=1).stack().reset_index(level=1, drop=True)\n",
    "s.name = 'genre'\n",
    "gen_md = md.drop('genres', axis=1).join(s)"
   ]
  },
  {
   "cell_type": "code",
   "execution_count": 12,
   "metadata": {
    "_cell_guid": "759652cb-5b16-4951-995c-6a3bdbae0e4e",
    "_uuid": "1fdfea9cd4b046b11ff8f2ac4f2bea74fccb8a8b"
   },
   "outputs": [],
   "source": [
    "def build_chart(genre, percentile=0.85):\n",
    "    df = gen_md[gen_md['genre'] == genre]\n",
    "    vote_counts = df[df['vote_count'].notnull()]['vote_count'].astype('int')\n",
    "    vote_averages = df[df['vote_average'].notnull()]['vote_average'].astype('int')\n",
    "    C = vote_averages.mean()\n",
    "    m = vote_counts.quantile(percentile)\n",
    "    \n",
    "    qualified = df[(df['vote_count'] >= m) & (df['vote_count'].notnull()) & (df['vote_average'].notnull())][['title', 'year', 'vote_count', 'vote_average', 'popularity']]\n",
    "    qualified['vote_count'] = qualified['vote_count'].astype('int')\n",
    "    qualified['vote_average'] = qualified['vote_average'].astype('int')\n",
    "    \n",
    "    qualified['wr'] = qualified.apply(lambda x: (x['vote_count']/(x['vote_count']+m) * x['vote_average']) + (m/(m+x['vote_count']) * C), axis=1)\n",
    "    qualified = qualified.sort_values('wr', ascending=False).head(250)\n",
    "    \n",
    "    return qualified"
   ]
  },
  {
   "cell_type": "markdown",
   "metadata": {
    "_cell_guid": "b6e1eb8b-6109-40ff-ab8a-37bd047c03ac",
    "_uuid": "0b0f95bdf966d06c2d7053535d46183b03a75cc1"
   },
   "source": [
    "## Content Based Recommender\n"
   ]
  },
  {
   "cell_type": "code",
   "execution_count": 13,
   "metadata": {
    "_cell_guid": "bd5f4440-f90d-46a4-8640-204541d99d40",
    "_uuid": "dc237e14c8346bdd51624d21b6b082399afd3062"
   },
   "outputs": [],
   "source": [
    "links_small = pd.read_csv('../input/links_small.csv')\n",
    "links_small = links_small[links_small['tmdbId'].notnull()]['tmdbId'].astype('int')"
   ]
  },
  {
   "cell_type": "code",
   "execution_count": 14,
   "metadata": {
    "_cell_guid": "cda91291-c8d5-475a-8b0f-ab4030d29f62",
    "_uuid": "6c5af69fefa991d46594401a5eac0656e5980484"
   },
   "outputs": [],
   "source": [
    "#md = md.drop([19730, 29503, 35587])"
   ]
  },
  {
   "cell_type": "code",
   "execution_count": 15,
   "metadata": {
    "_cell_guid": "f68cb861-7c30-4b3d-b655-520379e61d70",
    "_uuid": "87eb84540a3c22a3f7bf54edeee5b491ef571416"
   },
   "outputs": [],
   "source": [
    "#Check EDA Notebook for how and why I got these indices.\n",
    "md['id'] = md['id'].astype('int')"
   ]
  },
  {
   "cell_type": "code",
   "execution_count": 16,
   "metadata": {
    "_cell_guid": "0b968a6a-6b0d-4df6-9e28-91c06e6c36c2",
    "_uuid": "3f2a7f55a030beeb06b713f854e4ca6a69b5ca13"
   },
   "outputs": [
    {
     "data": {
      "text/plain": [
       "(818, 26)"
      ]
     },
     "execution_count": 16,
     "metadata": {},
     "output_type": "execute_result"
    }
   ],
   "source": [
    "smd = md[md['id'].isin(links_small)]\n",
    "smd.shape"
   ]
  },
  {
   "cell_type": "markdown",
   "metadata": {
    "_cell_guid": "1e73645a-0b0b-441f-93b4-ce92069e1852",
    "_uuid": "c41800b7a9d8b8d48ba1c22b8430929f54e9884e"
   },
   "source": [
    "### Movie Description Based Recommender\n"
   ]
  },
  {
   "cell_type": "code",
   "execution_count": 17,
   "metadata": {
    "_cell_guid": "c880adf9-051b-40cd-8e95-cd8c4acabb17",
    "_uuid": "453bdc941ba5a1e86e17b0f106dc44040c0defdf"
   },
   "outputs": [],
   "source": [
    "smd['tagline'] = smd['tagline'].fillna('')\n",
    "smd['description'] = smd['overview'] + smd['tagline']\n",
    "smd['description'] = smd['description'].fillna('')"
   ]
  },
  {
   "cell_type": "code",
   "execution_count": 18,
   "metadata": {
    "_cell_guid": "6b385623-a978-43c4-b66a-813d5e9c6790",
    "_uuid": "f9d99726d9f2667fa6fc15ce5c5e31d36a970828"
   },
   "outputs": [],
   "source": [
    "tf = TfidfVectorizer(analyzer='word',ngram_range=(1, 2),min_df=0, stop_words='english')\n",
    "tfidf_matrix = tf.fit_transform(smd['description'])\n"
   ]
  },
  {
   "cell_type": "code",
   "execution_count": 19,
   "metadata": {
    "_cell_guid": "5e18427c-2ef8-4a98-84e2-323a4af72ade",
    "_uuid": "6c21cc05d3c13ea637028f2e5836c719986e47c7"
   },
   "outputs": [
    {
     "data": {
      "text/plain": [
       "(818, 33682)"
      ]
     },
     "execution_count": 19,
     "metadata": {},
     "output_type": "execute_result"
    }
   ],
   "source": [
    "tfidf_matrix.shape"
   ]
  },
  {
   "cell_type": "code",
   "execution_count": 20,
   "metadata": {
    "_cell_guid": "8b27b34f-a585-42bf-b35f-1de4e9181fce",
    "_uuid": "e324c0e951287359f7810a3da85631ebc7725c53"
   },
   "outputs": [],
   "source": [
    "cosine_sim = linear_kernel(tfidf_matrix, tfidf_matrix)\n"
   ]
  },
  {
   "cell_type": "code",
   "execution_count": 21,
   "metadata": {
    "_cell_guid": "148a994f-3e7f-4350-9ea3-41eb95f106e8",
    "_uuid": "ebb6823a9dce997d965dc89049a06512cbfb17af"
   },
   "outputs": [
    {
     "data": {
      "text/plain": [
       "array([1.        , 0.00377865, 0.        , 0.00356997, 0.        ,\n",
       "       0.        , 0.        , 0.01648727, 0.        , 0.        ,\n",
       "       0.        , 0.        , 0.00467307, 0.        , 0.        ,\n",
       "       0.        , 0.        , 0.        , 0.        , 0.00551282,\n",
       "       0.        , 0.        , 0.00224231, 0.00292596, 0.01091109,\n",
       "       0.01218616, 0.        , 0.01265084, 0.        , 0.        ,\n",
       "       0.        , 0.        , 0.0249205 , 0.        , 0.        ,\n",
       "       0.        , 0.0157512 , 0.        , 0.        , 0.0617168 ,\n",
       "       0.00524183, 0.        , 0.        , 0.        , 0.00529733,\n",
       "       0.        , 0.00381369, 0.        , 0.        , 0.        ,\n",
       "       0.02497007, 0.        , 0.        , 0.        , 0.        ,\n",
       "       0.        , 0.01161201, 0.        , 0.        , 0.        ,\n",
       "       0.        , 0.        , 0.        , 0.        , 0.02114618,\n",
       "       0.        , 0.        , 0.00289205, 0.        , 0.        ,\n",
       "       0.        , 0.        , 0.        , 0.        , 0.        ,\n",
       "       0.00321758, 0.00651312, 0.        , 0.        , 0.        ,\n",
       "       0.        , 0.01473144, 0.00309609, 0.        , 0.        ,\n",
       "       0.00656794, 0.        , 0.02211083, 0.0055017 , 0.00699722,\n",
       "       0.        , 0.        , 0.        , 0.0162897 , 0.01573254,\n",
       "       0.        , 0.        , 0.        , 0.00604078, 0.        ,\n",
       "       0.00409683, 0.        , 0.        , 0.        , 0.        ,\n",
       "       0.        , 0.01363537, 0.00644766, 0.00367971, 0.        ,\n",
       "       0.00321561, 0.00609981, 0.05528482, 0.        , 0.0046711 ,\n",
       "       0.        , 0.00326212, 0.        , 0.02141821, 0.01577101,\n",
       "       0.        , 0.        , 0.        , 0.        , 0.005149  ,\n",
       "       0.        , 0.        , 0.        , 0.01375958, 0.02023664,\n",
       "       0.00847813, 0.        , 0.00494632, 0.00715744, 0.00345918,\n",
       "       0.00645642, 0.00944324, 0.        , 0.        , 0.        ,\n",
       "       0.        , 0.00384594, 0.        , 0.        , 0.00511217,\n",
       "       0.        , 0.        , 0.        , 0.        , 0.        ,\n",
       "       0.07311932, 0.01525769, 0.        , 0.        , 0.00565824,\n",
       "       0.00495267, 0.        , 0.        , 0.        , 0.        ,\n",
       "       0.00836424, 0.00266346, 0.00252961, 0.        , 0.01942723,\n",
       "       0.        , 0.00356684, 0.        , 0.01764262, 0.        ,\n",
       "       0.        , 0.        , 0.        , 0.        , 0.        ,\n",
       "       0.004907  , 0.        , 0.        , 0.        , 0.00825413,\n",
       "       0.        , 0.        , 0.01308781, 0.0182245 , 0.00444264,\n",
       "       0.        , 0.00550591, 0.01140666, 0.        , 0.00245706,\n",
       "       0.        , 0.00425115, 0.01282786, 0.00787907, 0.00204991,\n",
       "       0.        , 0.        , 0.        , 0.0044279 , 0.01595178,\n",
       "       0.01435231, 0.        , 0.        , 0.        , 0.        ,\n",
       "       0.00576132, 0.003766  , 0.00790085, 0.0153373 , 0.        ,\n",
       "       0.        , 0.00175104, 0.01042765, 0.01064642, 0.        ,\n",
       "       0.        , 0.        , 0.00442644, 0.        , 0.        ,\n",
       "       0.        , 0.0105365 , 0.        , 0.        , 0.01155256,\n",
       "       0.        , 0.        , 0.        , 0.        , 0.        ,\n",
       "       0.00401059, 0.01324854, 0.        , 0.02267972, 0.        ,\n",
       "       0.00287703, 0.        , 0.00520405, 0.        , 0.00506061,\n",
       "       0.        , 0.        , 0.        , 0.        , 0.        ,\n",
       "       0.        , 0.        , 0.        , 0.        , 0.        ,\n",
       "       0.        , 0.00344126, 0.        , 0.02645924, 0.0119288 ,\n",
       "       0.        , 0.        , 0.        , 0.00269398, 0.        ,\n",
       "       0.        , 0.02754979, 0.00474443, 0.        , 0.        ,\n",
       "       0.        , 0.        , 0.        , 0.00500697, 0.00259404,\n",
       "       0.00494192, 0.        , 0.        , 0.        , 0.00311939,\n",
       "       0.03158521, 0.        , 0.        , 0.        , 0.02691439,\n",
       "       0.        , 0.        , 0.        , 0.        , 0.        ,\n",
       "       0.        , 0.        , 0.        , 0.        , 0.        ,\n",
       "       0.02332298, 0.00539816, 0.        , 0.01079548, 0.        ,\n",
       "       0.        , 0.        , 0.00378568, 0.        , 0.        ,\n",
       "       0.        , 0.00354867, 0.        , 0.        , 0.        ,\n",
       "       0.        , 0.        , 0.00754406, 0.01186079, 0.00448395,\n",
       "       0.        , 0.03402158, 0.00471965, 0.00216164, 0.        ,\n",
       "       0.        , 0.        , 0.00259881, 0.        , 0.        ,\n",
       "       0.        , 0.        , 0.00502718, 0.        , 0.0048361 ,\n",
       "       0.        , 0.        , 0.00624058, 0.0049272 , 0.00290152,\n",
       "       0.        , 0.00307275, 0.00323728, 0.01941895, 0.        ,\n",
       "       0.        , 0.        , 0.        , 0.00297342, 0.        ,\n",
       "       0.        , 0.00938086, 0.        , 0.        , 0.01502372,\n",
       "       0.00179828, 0.        , 0.0065439 , 0.00394548, 0.00337355,\n",
       "       0.        , 0.        , 0.00722794, 0.01158839, 0.        ,\n",
       "       0.        , 0.        , 0.        , 0.        , 0.01154534,\n",
       "       0.        , 0.        , 0.01283468, 0.        , 0.        ,\n",
       "       0.        , 0.        , 0.00258093, 0.        , 0.        ,\n",
       "       0.        , 0.        , 0.00743107, 0.        , 0.        ,\n",
       "       0.        , 0.        , 0.00291525, 0.00328152, 0.0032281 ,\n",
       "       0.01065259, 0.        , 0.        , 0.        , 0.        ,\n",
       "       0.        , 0.00649925, 0.00753589, 0.        , 0.01545039,\n",
       "       0.00738735, 0.00452418, 0.        , 0.00471275, 0.01778696,\n",
       "       0.0069606 , 0.00791918, 0.00484929, 0.        , 0.        ,\n",
       "       0.0044673 , 0.        , 0.        , 0.        , 0.        ,\n",
       "       0.00943239, 0.00475553, 0.        , 0.        , 0.        ,\n",
       "       0.        , 0.        , 0.01173377, 0.        , 0.        ,\n",
       "       0.        , 0.        , 0.        , 0.        , 0.        ,\n",
       "       0.        , 0.        , 0.        , 0.        , 0.        ,\n",
       "       0.        , 0.01854953, 0.00430277, 0.        , 0.        ,\n",
       "       0.        , 0.        , 0.        , 0.        , 0.        ,\n",
       "       0.        , 0.00861696, 0.        , 0.        , 0.        ,\n",
       "       0.00187111, 0.        , 0.01121018, 0.        , 0.        ,\n",
       "       0.        , 0.00983746, 0.        , 0.        , 0.00362764,\n",
       "       0.        , 0.        , 0.        , 0.        , 0.        ,\n",
       "       0.01178503, 0.        , 0.        , 0.02175496, 0.        ,\n",
       "       0.        , 0.        , 0.        , 0.01344179, 0.0032579 ,\n",
       "       0.        , 0.        , 0.        , 0.0069539 , 0.        ,\n",
       "       0.00553955, 0.00440734, 0.        , 0.        , 0.        ,\n",
       "       0.00507046, 0.        , 0.00610777, 0.        , 0.00246332,\n",
       "       0.        , 0.        , 0.00431289, 0.        , 0.01428647,\n",
       "       0.00810806, 0.        , 0.        , 0.        , 0.        ,\n",
       "       0.        , 0.        , 0.00807713, 0.        , 0.        ,\n",
       "       0.        , 0.        , 0.00270263, 0.00291294, 0.00937027,\n",
       "       0.        , 0.01191963, 0.00679767, 0.01149974, 0.        ,\n",
       "       0.        , 0.00377401, 0.        , 0.        , 0.        ,\n",
       "       0.        , 0.        , 0.        , 0.        , 0.00305784,\n",
       "       0.        , 0.00367948, 0.        , 0.0043523 , 0.        ,\n",
       "       0.        , 0.        , 0.00311368, 0.01131085, 0.00993527,\n",
       "       0.        , 0.        , 0.        , 0.        , 0.        ,\n",
       "       0.00398593, 0.00614015, 0.        , 0.        , 0.        ,\n",
       "       0.00636353, 0.        , 0.00358925, 0.00522743, 0.        ,\n",
       "       0.        , 0.        , 0.00500565, 0.00351885, 0.        ,\n",
       "       0.        , 0.00666597, 0.        , 0.01751787, 0.        ,\n",
       "       0.00515159, 0.        , 0.        , 0.00812828, 0.        ,\n",
       "       0.00366887, 0.00352234, 0.00541609, 0.00645938, 0.        ,\n",
       "       0.        , 0.        , 0.00602617, 0.        , 0.        ,\n",
       "       0.        , 0.        , 0.00426823, 0.        , 0.00575203,\n",
       "       0.00811502, 0.        , 0.00533411, 0.02229411, 0.        ,\n",
       "       0.        , 0.00403026, 0.01095299, 0.0019501 , 0.00460388,\n",
       "       0.00511766, 0.00203744, 0.        , 0.03108074, 0.        ,\n",
       "       0.        , 0.        , 0.        , 0.00601268, 0.        ,\n",
       "       0.        , 0.01454821, 0.00433057, 0.        , 0.        ,\n",
       "       0.        , 0.00911677, 0.        , 0.        , 0.        ,\n",
       "       0.0037127 , 0.00752111, 0.0031783 , 0.        , 0.00641996,\n",
       "       0.00262046, 0.        , 0.        , 0.        , 0.        ,\n",
       "       0.        , 0.        , 0.        , 0.        , 0.        ,\n",
       "       0.01278525, 0.        , 0.00842134, 0.00795284, 0.0033896 ,\n",
       "       0.        , 0.        , 0.00294406, 0.        , 0.        ,\n",
       "       0.        , 0.        , 0.        , 0.        , 0.00352729,\n",
       "       0.        , 0.        , 0.01572416, 0.00283125, 0.        ,\n",
       "       0.        , 0.00293188, 0.        , 0.        , 0.00356273,\n",
       "       0.        , 0.        , 0.00264833, 0.        , 0.        ,\n",
       "       0.00317086, 0.01104058, 0.        , 0.00529623, 0.        ,\n",
       "       0.0105262 , 0.        , 0.        , 0.        , 0.01983113,\n",
       "       0.        , 0.00308616, 0.        , 0.        , 0.01028337,\n",
       "       0.        , 0.        , 0.        , 0.        , 0.        ,\n",
       "       0.        , 0.        , 0.        , 0.        , 0.00226551,\n",
       "       0.01900727, 0.        , 0.00914593, 0.        , 0.        ,\n",
       "       0.        , 0.01104036, 0.        , 0.00478735, 0.00429287,\n",
       "       0.        , 0.        , 0.        , 0.00980642, 0.        ,\n",
       "       0.0212463 , 0.        , 0.        , 0.        , 0.        ,\n",
       "       0.        , 0.        , 0.00762892, 0.        , 0.        ,\n",
       "       0.        , 0.01623938, 0.        , 0.01275725, 0.        ,\n",
       "       0.        , 0.        , 0.        , 0.00239458, 0.00503776,\n",
       "       0.00305279, 0.00536258, 0.00323042, 0.00606546, 0.        ,\n",
       "       0.        , 0.        , 0.00777438, 0.00509509, 0.        ,\n",
       "       0.01161935, 0.00222389, 0.00436619, 0.        , 0.        ,\n",
       "       0.        , 0.        , 0.        , 0.        , 0.        ,\n",
       "       0.0046965 , 0.        , 0.        , 0.00245818, 0.01918627,\n",
       "       0.        , 0.03001779, 0.        , 0.00506973, 0.        ,\n",
       "       0.        , 0.        , 0.00326139, 0.        , 0.        ,\n",
       "       0.        , 0.        , 0.00245071, 0.00299029, 0.        ,\n",
       "       0.        , 0.        , 0.        , 0.00427581, 0.        ,\n",
       "       0.        , 0.        , 0.        , 0.00490288, 0.00354851,\n",
       "       0.011625  , 0.        , 0.00399018, 0.00606228, 0.        ,\n",
       "       0.        , 0.        , 0.        , 0.        , 0.        ,\n",
       "       0.        , 0.        , 0.        , 0.00366568, 0.        ,\n",
       "       0.        , 0.        , 0.        , 0.        , 0.01457057,\n",
       "       0.        , 0.        , 0.        , 0.        , 0.        ,\n",
       "       0.        , 0.01831219, 0.        , 0.        , 0.00526071,\n",
       "       0.        , 0.        , 0.        , 0.        , 0.00602014,\n",
       "       0.        , 0.        , 0.00426922, 0.        , 0.        ,\n",
       "       0.        , 0.        , 0.0088119 , 0.00504042, 0.        ,\n",
       "       0.        , 0.00350247, 0.00348746, 0.        , 0.        ,\n",
       "       0.        , 0.        , 0.00590824, 0.        , 0.        ,\n",
       "       0.        , 0.0076276 , 0.01280792, 0.        , 0.        ,\n",
       "       0.01014306, 0.0127954 , 0.00433082])"
      ]
     },
     "execution_count": 21,
     "metadata": {},
     "output_type": "execute_result"
    }
   ],
   "source": [
    "cosine_sim[0]"
   ]
  },
  {
   "cell_type": "code",
   "execution_count": 22,
   "metadata": {
    "_cell_guid": "446d22fd-e7c1-42a6-851b-593f60175ce0",
    "_uuid": "ff016d61895e99fe7b0495c51b86917bdbe2712d"
   },
   "outputs": [],
   "source": [
    "smd = smd.reset_index()\n",
    "titles = smd['title']\n",
    "indices = pd.Series(smd.index, index=smd['title'])"
   ]
  },
  {
   "cell_type": "code",
   "execution_count": 23,
   "metadata": {
    "_cell_guid": "d7352ae7-fbc3-4459-b257-76a44000ce6a",
    "_uuid": "62f49212a8b935ef63a3643e1bb6f629521f05b7"
   },
   "outputs": [],
   "source": [
    "def content_recommendations(title):\n",
    "    idx = indices[title]\n",
    "    sim_scores = list(enumerate(cosine_sim[idx]))\n",
    "    sim_scores = sorted(sim_scores, key=lambda x: x[1], reverse=True)\n",
    "    sim_scores = sim_scores[1:31]\n",
    "    movie_indices = [i[0] for i in sim_scores]\n",
    "    movies = smd.iloc[movie_indices][['title', 'year', 'id' , 'imdb_id']]\n",
    "    \n",
    "    return movies[['title','id','imdb_id']]\n"
   ]
  },
  {
   "cell_type": "markdown",
   "metadata": {
    "_cell_guid": "3a0dd8ba-a580-4c12-95eb-ca04e2191b35",
    "_uuid": "4089c7bcdf984e596e80d2fc6c2a74fe8c05a41f"
   },
   "source": [
    "### Metadata Based Recommender\n"
   ]
  },
  {
   "cell_type": "code",
   "execution_count": 24,
   "metadata": {
    "_cell_guid": "85d2d5e0-165a-4ad5-860d-be1d1aa20c59",
    "_uuid": "aa399813ff512b0d7671e9bfcebf7f41ee139275"
   },
   "outputs": [],
   "source": [
    "credits = pd.read_csv('../input/credits.csv')\n",
    "credits=credits[[\"cast\" ,\"crew\" , \"id\" ]]\n",
    "keywords = pd.read_csv('../input/keywords.csv')"
   ]
  },
  {
   "cell_type": "code",
   "execution_count": 25,
   "metadata": {
    "_cell_guid": "5dc74705-17ee-41b8-932b-dc612c9426c5",
    "_uuid": "e82eb38c3ae53d500ad335943b4bd30a19f22d1a"
   },
   "outputs": [],
   "source": [
    "keywords['id'] = keywords['id'].astype('int')\n",
    "credits['id'] = credits['id'].astype('int')\n",
    "md['id'] = md['id'].astype('int')"
   ]
  },
  {
   "cell_type": "code",
   "execution_count": 26,
   "metadata": {
    "_cell_guid": "a120fca0-7236-4b97-97f8-970363ed02ed",
    "_uuid": "2f9fc363f77649b3ee41132e0b45f366726a25cb"
   },
   "outputs": [
    {
     "data": {
      "text/plain": [
       "(818, 26)"
      ]
     },
     "execution_count": 26,
     "metadata": {},
     "output_type": "execute_result"
    }
   ],
   "source": [
    "md.shape"
   ]
  },
  {
   "cell_type": "code",
   "execution_count": 27,
   "metadata": {
    "_cell_guid": "39fbbbcd-a0d9-4ad3-9187-e6e2bdb4358e",
    "_uuid": "4b1ebc18f31eb017c6f4f173ab270807c73c002a"
   },
   "outputs": [],
   "source": [
    "md = md.merge(credits, on='id')\n",
    "md = md.merge(keywords, on='id')"
   ]
  },
  {
   "cell_type": "code",
   "execution_count": 28,
   "metadata": {},
   "outputs": [],
   "source": [
    "#md['id'].value_counts()"
   ]
  },
  {
   "cell_type": "code",
   "execution_count": 29,
   "metadata": {},
   "outputs": [],
   "source": [
    "#md[md['id']==0]"
   ]
  },
  {
   "cell_type": "code",
   "execution_count": 30,
   "metadata": {},
   "outputs": [],
   "source": [
    "#drops index with non english movies titles and fully credits\n",
    "#md = md.drop([411, 412, 413,414,415,416,417,418,651,652,653,678,679,680,730,56,732,451,43,641,48,712,74])\n",
    "\n",
    "#drops index with only english movies titles and fully credits\n",
    "#md = md.drop([556,557,558,538,539,540,69,53,372,40,45,530])\n",
    "\n",
    "#drops index with only english movies titles and 800 credits\n",
    "md = md.drop([69,53,372,530,40,554,538,45])"
   ]
  },
  {
   "cell_type": "code",
   "execution_count": 31,
   "metadata": {},
   "outputs": [],
   "source": [
    "#md['id'].value_counts()"
   ]
  },
  {
   "cell_type": "code",
   "execution_count": 32,
   "metadata": {
    "_cell_guid": "ecdbd741-d8b1-4083-ba26-6c347915f16d",
    "_uuid": "a017f13dce80c88ce2f9fc0d63c374c93e827baa"
   },
   "outputs": [],
   "source": [
    "smd = md[md['id'].isin(links_small)]\n",
    "#smd"
   ]
  },
  {
   "cell_type": "code",
   "execution_count": 33,
   "metadata": {
    "_cell_guid": "6c221b12-c5fd-4eb6-b61a-b7d3f395d2ab",
    "_uuid": "7ff7d25e2c175f2d71e02cf408ed113e10a148f1"
   },
   "outputs": [],
   "source": [
    "smd['cast'] = smd['cast'].apply(literal_eval)\n",
    "smd['crew'] = smd['crew'].apply(literal_eval)\n",
    "smd['keywords'] = smd['keywords'].apply(literal_eval)\n",
    "smd['cast_size'] = smd['cast'].apply(lambda x: len(x))\n",
    "smd['crew_size'] = smd['crew'].apply(lambda x: len(x))"
   ]
  },
  {
   "cell_type": "code",
   "execution_count": 34,
   "metadata": {
    "_cell_guid": "0e19fe24-e206-4743-a96c-fb828707c74d",
    "_uuid": "4207baed79a12ab3314fc816076bbff032d3e186"
   },
   "outputs": [],
   "source": [
    "def get_director(x):\n",
    "    for i in x:\n",
    "        if i['job'] == 'Director':\n",
    "            return i['name']\n",
    "    return np.nan"
   ]
  },
  {
   "cell_type": "code",
   "execution_count": 35,
   "metadata": {
    "_cell_guid": "d4468b32-a67e-4e31-bd56-1f4467884d1d",
    "_uuid": "64c84be00eb7eb7c0b9c4d9a1605e247c11ce2c6"
   },
   "outputs": [],
   "source": [
    "smd['director'] = smd['crew'].apply(get_director)"
   ]
  },
  {
   "cell_type": "code",
   "execution_count": 36,
   "metadata": {
    "_cell_guid": "cc3ff524-20c5-478c-b45e-9875c473e48b",
    "_uuid": "fd58e3dc015c81678ca1181a8de9c6e967ffdb22"
   },
   "outputs": [],
   "source": [
    "smd['cast'] = smd['cast'].apply(lambda x: [i['name'] for i in x] if isinstance(x, list) else [])\n",
    "smd['cast'] = smd['cast'].apply(lambda x: x[:3] if len(x) >=3 else x)"
   ]
  },
  {
   "cell_type": "code",
   "execution_count": 37,
   "metadata": {
    "_cell_guid": "2768dfe6-303a-4f88-81be-39b91c675202",
    "_uuid": "16c1509135d80d41051b8fb46ded3a6aad67e8f0"
   },
   "outputs": [],
   "source": [
    "smd['keywords'] = smd['keywords'].apply(lambda x: [i['name'] for i in x] if isinstance(x, list) else [])"
   ]
  },
  {
   "cell_type": "code",
   "execution_count": 38,
   "metadata": {
    "_cell_guid": "6c5ffd70-ef6b-4fd0-be3d-b3c6a0d72df0",
    "_uuid": "01d86674d50b903fedc79750c4031ca88a739449"
   },
   "outputs": [],
   "source": [
    "smd['cast'] = smd['cast'].apply(lambda x: [str.lower(i.replace(\" \", \"\")) for i in x])"
   ]
  },
  {
   "cell_type": "code",
   "execution_count": 39,
   "metadata": {
    "_cell_guid": "5c1377ba-aad0-4a3f-8bcb-063c9c93f087",
    "_uuid": "7e16f8b131ff73d33463fd070774a24a5ce474df"
   },
   "outputs": [],
   "source": [
    "smd['director'] = smd['director'].astype('str').apply(lambda x: str.lower(x.replace(\" \", \"\")))\n",
    "smd['director'] = smd['director'].apply(lambda x: [x,x, x])"
   ]
  },
  {
   "cell_type": "code",
   "execution_count": 40,
   "metadata": {
    "_cell_guid": "3dc8f545-4666-4cc0-8473-2870a69e7ff0",
    "_uuid": "5740d11531f7305f4edf13b0270dc014382a2b5c"
   },
   "outputs": [],
   "source": [
    "s = smd.apply(lambda x: pd.Series(x['keywords']),axis=1).stack().reset_index(level=1, drop=True)\n",
    "s.name = 'keyword'"
   ]
  },
  {
   "cell_type": "code",
   "execution_count": 41,
   "metadata": {
    "_cell_guid": "21e684ab-f6d3-4014-a05a-c28f995b4972",
    "_uuid": "1374a54bff3f7f0fdc872bfebff9f81d1dfcea69"
   },
   "outputs": [
    {
     "data": {
      "text/plain": [
       "woman director      85\n",
       "independent film    78\n",
       "murder              36\n",
       "based on novel      32\n",
       "sex                 25\n",
       "Name: keyword, dtype: int64"
      ]
     },
     "execution_count": 41,
     "metadata": {},
     "output_type": "execute_result"
    }
   ],
   "source": [
    "s = s.value_counts()\n",
    "s[:5]"
   ]
  },
  {
   "cell_type": "code",
   "execution_count": 42,
   "metadata": {
    "_cell_guid": "8cabd79b-dfab-46d8-922d-e204173d8103",
    "_uuid": "bf05fb571b1ee60335af20acb9cf5d7fee6254e8"
   },
   "outputs": [],
   "source": [
    "s = s[s > 1]"
   ]
  },
  {
   "cell_type": "code",
   "execution_count": 43,
   "metadata": {
    "_cell_guid": "2d10427d-9339-46fa-b699-060b27d6d25f",
    "_uuid": "1d2a07e4de352df9d3e2230d36e691d166a1675c"
   },
   "outputs": [
    {
     "data": {
      "text/plain": [
       "'dog'"
      ]
     },
     "execution_count": 43,
     "metadata": {},
     "output_type": "execute_result"
    }
   ],
   "source": [
    "stemmer = SnowballStemmer('english')\n",
    "stemmer.stem('dogs')"
   ]
  },
  {
   "cell_type": "code",
   "execution_count": 44,
   "metadata": {
    "_cell_guid": "5379c8d7-42a5-471a-84f8-bbd6cadf2e5c",
    "_uuid": "3bad77061d810e52b0d9fecfd26873c101167d00"
   },
   "outputs": [],
   "source": [
    "def filter_keywords(x):\n",
    "    words = []\n",
    "    for i in x:\n",
    "        if i in s:\n",
    "            words.append(i)\n",
    "    return words"
   ]
  },
  {
   "cell_type": "code",
   "execution_count": 45,
   "metadata": {
    "_cell_guid": "959063e5-841d-408a-a10e-1f1437756b7c",
    "_uuid": "2a939eb8846871c606da0f654a1a9a978270e99f"
   },
   "outputs": [],
   "source": [
    "smd['keywords'] = smd['keywords'].apply(filter_keywords)\n",
    "smd['keywords'] = smd['keywords'].apply(lambda x: [stemmer.stem(i) for i in x])\n",
    "smd['keywords'] = smd['keywords'].apply(lambda x: [str.lower(i.replace(\" \", \"\")) for i in x])"
   ]
  },
  {
   "cell_type": "code",
   "execution_count": 46,
   "metadata": {
    "_cell_guid": "95c45262-2715-47b7-af65-1eb396c37d33",
    "_uuid": "6ff4da392e31cf628f91dd244cc4e76d63c40601"
   },
   "outputs": [],
   "source": [
    "smd['soup'] = smd['keywords'] + smd['cast'] + smd['director'] + smd['genres']\n",
    "smd['soup'] = smd['soup'].apply(lambda x: ' '.join(x))"
   ]
  },
  {
   "cell_type": "code",
   "execution_count": 47,
   "metadata": {
    "_cell_guid": "7f9aa1bc-351b-47a1-b909-0d87efe93adc",
    "_uuid": "c758030ce02bb4beed606e41a3e0a51b659768f0"
   },
   "outputs": [],
   "source": [
    "count = CountVectorizer(analyzer='word',ngram_range=(1, 2),min_df=0, stop_words='english')\n",
    "count_matrix = count.fit_transform(smd['soup'])"
   ]
  },
  {
   "cell_type": "code",
   "execution_count": 48,
   "metadata": {
    "_cell_guid": "c462b8af-1eb8-499e-8e50-839811aebe9d",
    "_uuid": "defccf8a2c851672447b4f53ff1a8efddafccb33"
   },
   "outputs": [],
   "source": [
    "cosine_sim = cosine_similarity(count_matrix, count_matrix)"
   ]
  },
  {
   "cell_type": "code",
   "execution_count": 49,
   "metadata": {
    "_cell_guid": "d7ee34aa-da42-46bb-93e5-51e893286353",
    "_uuid": "ffa7edd804b3ea3065c6d428fbb613ae7cd203e3"
   },
   "outputs": [],
   "source": [
    "smd = smd.reset_index()\n",
    "titles = smd['title']\n",
    "indices = pd.Series(smd.index, index=smd['title'])"
   ]
  },
  {
   "cell_type": "markdown",
   "metadata": {
    "_cell_guid": "a9a16fac-217d-4b36-b280-ca250ee921fe",
    "_uuid": "ddc06567eb0fe770c7f3b77f3cb7b777a6923f5c"
   },
   "source": [
    "## Collaborative Filtering\n"
   ]
  },
  {
   "cell_type": "code",
   "execution_count": 50,
   "metadata": {
    "_cell_guid": "632e75c9-0068-456a-82d5-8a8eb44e98df",
    "_uuid": "de715e5b70a605e3bd65ad50bbfa9b71aac1aef4"
   },
   "outputs": [],
   "source": [
    "reader = Reader()\n",
    "svd = SVD()"
   ]
  },
  {
   "cell_type": "code",
   "execution_count": 51,
   "metadata": {
    "_cell_guid": "7b7a10d4-4f72-4c07-a514-ae5c2f0663a9",
    "_uuid": "18c484e823d3c4c1bbb91a5aa708e277c97cdaf1"
   },
   "outputs": [],
   "source": [
    "ratings = pd.read_csv('../input/ratings_small.csv')\n",
    "#ratings.head()"
   ]
  },
  {
   "cell_type": "code",
   "execution_count": 52,
   "metadata": {},
   "outputs": [],
   "source": [
    "get_user_ratings = None\n",
    "ratings_table = pd.read_csv('../input/ratings_table.csv')\n",
    "\n",
    "def post_user_ratings(userId,userName,movieId,movieName,rating,review):\n",
    "    links_small_map = pd.read_csv('../input/links_small.csv')[['movieId', 'imdbId' , 'tmdbId']]\n",
    "    tagret_movie = links_small_map[links_small_map['tmdbId'] == movieId]\n",
    "    tagret_id = tagret_movie['movieId'].iloc[0]\n",
    "    ratings.loc[len(ratings)] = [userId, tagret_id, rating,\"Nulled\"]\n",
    "    veiw_ratings = ratings_table.loc[len(ratings_table)] = [userId, userName , tagret_id , movieName , rating, review ]\n",
    "    def return_ratings():\n",
    "        return ratings_table\n",
    "    global get_user_ratings \n",
    "    get_user_ratings= return_ratings()\n",
    "    return ratings_table\n",
    "    \n",
    "def post_SVD(userId,userName,movieId,movieName,rating,review):\n",
    "    links_small_map = pd.read_csv('../input/links_small.csv')[['movieId', 'imdbId' , 'tmdbId']]\n",
    "    tagret_movie = links_small_map[links_small_map['tmdbId'] == movieId]\n",
    "    tagret_id = tagret_movie['movieId'].iloc[0]\n",
    "    ratings.loc[len(ratings)] = [userId, tagret_id, rating,\"Nulled\"]\n",
    "    veiw_ratings = ratings_table.loc[len(ratings_table)] = [userId, userName , tagret_id , movieName , rating, review ]\n",
    "    reader = Reader()\n",
    "    svd = SVD()\n",
    "    data = Dataset.load_from_df(ratings[['userId', 'movieId', 'rating']], reader)\n",
    "    cross_validate(svd, data, measures=['RMSE', 'MAE'], cv=5, verbose=True)\n",
    "    trainset = data.build_full_trainset()\n",
    "    svd.fit(trainset)\n",
    "    def return_ratings():\n",
    "        #return ratings\n",
    "        return ratings_table\n",
    "    global get_user_ratings \n",
    "    get_user_ratings= return_ratings()\n",
    "    return ratings_table"
   ]
  },
  {
   "cell_type": "code",
   "execution_count": 53,
   "metadata": {
    "_cell_guid": "f2f755fd-c3ef-4095-add8-f88350cf1b36",
    "_uuid": "daa1711d353573b2dcf5145f1882397a2adcab27"
   },
   "outputs": [],
   "source": [
    "data = Dataset.load_from_df(ratings[['userId', 'movieId', 'rating']], reader)"
   ]
  },
  {
   "cell_type": "code",
   "execution_count": 54,
   "metadata": {
    "_cell_guid": "41ca3304-0fa5-401d-8c20-48b5c7cfb0d4",
    "_uuid": "edc105b14d9331d3adb44155c881670c5afacc41"
   },
   "outputs": [
    {
     "name": "stdout",
     "output_type": "stream",
     "text": [
      "Evaluating RMSE, MAE of algorithm SVD on 5 split(s).\n",
      "\n",
      "                  Fold 1  Fold 2  Fold 3  Fold 4  Fold 5  Mean    Std     \n",
      "RMSE (testset)    0.9004  0.8903  0.8987  0.8969  0.9004  0.8973  0.0038  \n",
      "MAE (testset)     0.6968  0.6850  0.6902  0.6904  0.6902  0.6905  0.0037  \n",
      "Fit time          0.72    0.73    0.73    0.73    0.74    0.73    0.00    \n",
      "Test time         0.14    0.09    0.10    0.14    0.09    0.11    0.02    \n"
     ]
    },
    {
     "data": {
      "text/plain": [
       "{'test_rmse': array([0.90040963, 0.89028834, 0.89873353, 0.89692182, 0.90038948]),\n",
       " 'test_mae': array([0.6967962 , 0.68504343, 0.6901772 , 0.6904215 , 0.69015277]),\n",
       " 'fit_time': (0.7237086296081543,\n",
       "  0.7265925407409668,\n",
       "  0.726449728012085,\n",
       "  0.7253353595733643,\n",
       "  0.7355144023895264),\n",
       " 'test_time': (0.14103150367736816,\n",
       "  0.09045767784118652,\n",
       "  0.09931731224060059,\n",
       "  0.14087700843811035,\n",
       "  0.09063267707824707)}"
      ]
     },
     "execution_count": 54,
     "metadata": {},
     "output_type": "execute_result"
    }
   ],
   "source": [
    "cross_validate(svd, data, measures=['RMSE', 'MAE'], cv=5, verbose=True)"
   ]
  },
  {
   "cell_type": "code",
   "execution_count": 55,
   "metadata": {
    "_cell_guid": "b39199fa-a02c-4509-852d-85020b36424d",
    "_uuid": "b588afd2750b0ba0793b953edac8c366222f8500"
   },
   "outputs": [
    {
     "data": {
      "text/plain": [
       "<surprise.prediction_algorithms.matrix_factorization.SVD at 0x1999cf008b0>"
      ]
     },
     "execution_count": 55,
     "metadata": {},
     "output_type": "execute_result"
    }
   ],
   "source": [
    "trainset = data.build_full_trainset()\n",
    "svd.fit(trainset)"
   ]
  },
  {
   "cell_type": "code",
   "execution_count": 56,
   "metadata": {
    "_cell_guid": "b57dd617-c9aa-4928-a7de-c6b7036cc07b",
    "_uuid": "2307233c3213417079c46fcfaaf2638ef1f0059f"
   },
   "outputs": [],
   "source": [
    "#ratings[ratings['userId'] == 1]"
   ]
  },
  {
   "cell_type": "code",
   "execution_count": 57,
   "metadata": {
    "_cell_guid": "e0701e4b-dde1-4791-b96e-faa4ae40df8e",
    "_uuid": "9c22aa0cc39595a4414d227a284f92b382eab67a"
   },
   "outputs": [
    {
     "data": {
      "text/plain": [
       "Prediction(uid=1, iid=302, r_ui=3, est=2.7597536588807277, details={'was_impossible': False})"
      ]
     },
     "execution_count": 57,
     "metadata": {},
     "output_type": "execute_result"
    }
   ],
   "source": [
    "svd.predict(1, 302 , 3 )"
   ]
  },
  {
   "cell_type": "markdown",
   "metadata": {
    "_cell_guid": "248ec145-20e4-429c-8718-5c20834be1be",
    "_uuid": "b6fe882ef8417e28bb024306a3879dc67affb7c6"
   },
   "source": [
    "## Hybrid Recommender\n"
   ]
  },
  {
   "cell_type": "code",
   "execution_count": 58,
   "metadata": {
    "_cell_guid": "97a7efdb-9b93-4ed2-ac89-45c2f99a7304",
    "_uuid": "299a5feac15cdb6fd01f4e243949ba2424f5901c"
   },
   "outputs": [],
   "source": [
    "def convert_int(x):\n",
    "    try:\n",
    "        return int(x)\n",
    "    except:\n",
    "        return np.nan"
   ]
  },
  {
   "cell_type": "code",
   "execution_count": 59,
   "metadata": {
    "_cell_guid": "aae5c254-a6e7-40b3-bbda-b97a2d285ecd",
    "_uuid": "1d5f8381c8951f51e9e30d30a771fc7ded9761a2"
   },
   "outputs": [],
   "source": [
    "id_map = pd.read_csv('../input/links_small.csv')[['movieId', 'imdbId' , 'tmdbId']]\n",
    "id_map['tmdbId'] = id_map['tmdbId'].apply(convert_int)\n",
    "id_map.columns = ['movieId', 'imdbId' , 'id']\n",
    "id_map = id_map.merge(smd[['title', 'id']], on='id').set_index('title')"
   ]
  },
  {
   "cell_type": "code",
   "execution_count": 67,
   "metadata": {
    "_cell_guid": "07adb6c6-af45-47cb-ae9f-6ab64f64e3e4",
    "_uuid": "c2c54697ee62ecb46fdb33ffb53dcc27e5397253"
   },
   "outputs": [],
   "source": [
    "indices_map = id_map.set_index('id')\n",
    "#print(indices_map)"
   ]
  },
  {
   "cell_type": "code",
   "execution_count": 61,
   "metadata": {
    "_cell_guid": "46b03dde-afd4-45c3-a733-7ad894a31edb",
    "_uuid": "92291dbdbd9c9161d500476609c9cf95247e2b24"
   },
   "outputs": [],
   "source": [
    "def hybrid_recommendations(userId, title):\n",
    "    idx = indices[title]\n",
    "    tmdbId = id_map.loc[title]['id']\n",
    "    imdbId = id_map.loc[title]['imdbId']\n",
    "    movie_id = id_map.loc[title]['movieId']\n",
    "    \n",
    "    #cosine_sim = linear_kernel(tfidf_matrix, tfidf_matrix)\n",
    "    sim_scores = list(enumerate(cosine_sim[int(idx)]))\n",
    "    sim_scores = sorted(sim_scores, key=lambda x: x[1], reverse=True)\n",
    "    sim_scores = sim_scores[1:31]\n",
    "    movie_indices = [i[0] for i in sim_scores]\n",
    "    movies = smd.iloc[movie_indices][['title', 'year', 'id' , 'imdb_id']]\n",
    "    \n",
    "    movies['est'] = movies['id'].apply(lambda x: svd.predict(userId, indices_map.loc[x]['movieId'] , r_ui=None).est)\n",
    "    movies = movies.sort_values('est', ascending=False)\n",
    "    \n",
    "    return movies[['title','id','imdb_id']]\n",
    "\n"
   ]
  },
  {
   "cell_type": "code",
   "execution_count": 62,
   "metadata": {
    "_cell_guid": "ef53f237-5dd0-4f62-8c32-e9666b2268f5",
    "_uuid": "5cea2292f710fae80d580aa43c713531e97451ad"
   },
   "outputs": [
    {
     "data": {
      "text/html": [
       "<div>\n",
       "<style scoped>\n",
       "    .dataframe tbody tr th:only-of-type {\n",
       "        vertical-align: middle;\n",
       "    }\n",
       "\n",
       "    .dataframe tbody tr th {\n",
       "        vertical-align: top;\n",
       "    }\n",
       "\n",
       "    .dataframe thead th {\n",
       "        text-align: right;\n",
       "    }\n",
       "</style>\n",
       "<table border=\"1\" class=\"dataframe\">\n",
       "  <thead>\n",
       "    <tr style=\"text-align: right;\">\n",
       "      <th></th>\n",
       "      <th>title</th>\n",
       "      <th>id</th>\n",
       "      <th>imdb_id</th>\n",
       "    </tr>\n",
       "  </thead>\n",
       "  <tbody>\n",
       "    <tr>\n",
       "      <th>566</th>\n",
       "      <td>The Lord Of The Rings: The Fellowship Of The Ring</td>\n",
       "      <td>120</td>\n",
       "      <td>tt0120737</td>\n",
       "    </tr>\n",
       "    <tr>\n",
       "      <th>176</th>\n",
       "      <td>Hell Baby</td>\n",
       "      <td>159092</td>\n",
       "      <td>tt2318527</td>\n",
       "    </tr>\n",
       "    <tr>\n",
       "      <th>377</th>\n",
       "      <td>Assume The Position With Mr. Wuhl</td>\n",
       "      <td>63011</td>\n",
       "      <td>tt0788006</td>\n",
       "    </tr>\n",
       "    <tr>\n",
       "      <th>184</th>\n",
       "      <td>Fear Lives Here</td>\n",
       "      <td>238358</td>\n",
       "      <td>tt2235515</td>\n",
       "    </tr>\n",
       "    <tr>\n",
       "      <th>5</th>\n",
       "      <td>The Axe Murders Of Villisca</td>\n",
       "      <td>401065</td>\n",
       "      <td>tt3320500</td>\n",
       "    </tr>\n",
       "    <tr>\n",
       "      <th>488</th>\n",
       "      <td>Dead Meat</td>\n",
       "      <td>15689</td>\n",
       "      <td>tt0369359</td>\n",
       "    </tr>\n",
       "    <tr>\n",
       "      <th>254</th>\n",
       "      <td>51</td>\n",
       "      <td>57812</td>\n",
       "      <td>tt1629439</td>\n",
       "    </tr>\n",
       "    <tr>\n",
       "      <th>524</th>\n",
       "      <td>Ride Or Die</td>\n",
       "      <td>72790</td>\n",
       "      <td>tt0313532</td>\n",
       "    </tr>\n",
       "    <tr>\n",
       "      <th>128</th>\n",
       "      <td>Call Girl Of Cthulhu</td>\n",
       "      <td>285598</td>\n",
       "      <td>tt2689354</td>\n",
       "    </tr>\n",
       "    <tr>\n",
       "      <th>112</th>\n",
       "      <td>Darling</td>\n",
       "      <td>352372</td>\n",
       "      <td>tt4126394</td>\n",
       "    </tr>\n",
       "    <tr>\n",
       "      <th>146</th>\n",
       "      <td>Rapture-Palooza</td>\n",
       "      <td>174188</td>\n",
       "      <td>tt1879032</td>\n",
       "    </tr>\n",
       "    <tr>\n",
       "      <th>277</th>\n",
       "      <td>Saint</td>\n",
       "      <td>45756</td>\n",
       "      <td>tt1167675</td>\n",
       "    </tr>\n",
       "    <tr>\n",
       "      <th>190</th>\n",
       "      <td>Cockneys Vs Zombies</td>\n",
       "      <td>114606</td>\n",
       "      <td>tt1362058</td>\n",
       "    </tr>\n",
       "    <tr>\n",
       "      <th>442</th>\n",
       "      <td>Pervert!</td>\n",
       "      <td>46333</td>\n",
       "      <td>tt0460898</td>\n",
       "    </tr>\n",
       "    <tr>\n",
       "      <th>708</th>\n",
       "      <td>An American Vampire Story</td>\n",
       "      <td>65416</td>\n",
       "      <td>tt0251582</td>\n",
       "    </tr>\n",
       "    <tr>\n",
       "      <th>552</th>\n",
       "      <td>R.S.V.P.</td>\n",
       "      <td>30081</td>\n",
       "      <td>tt0271210</td>\n",
       "    </tr>\n",
       "    <tr>\n",
       "      <th>120</th>\n",
       "      <td>Burying The Ex</td>\n",
       "      <td>255798</td>\n",
       "      <td>tt3339674</td>\n",
       "    </tr>\n",
       "    <tr>\n",
       "      <th>61</th>\n",
       "      <td>The Thinning</td>\n",
       "      <td>419639</td>\n",
       "      <td>tt5254868</td>\n",
       "    </tr>\n",
       "    <tr>\n",
       "      <th>458</th>\n",
       "      <td>Alien Apocalypse</td>\n",
       "      <td>14907</td>\n",
       "      <td>tt0404756</td>\n",
       "    </tr>\n",
       "    <tr>\n",
       "      <th>145</th>\n",
       "      <td>Jersey Shore Massacre</td>\n",
       "      <td>288154</td>\n",
       "      <td>tt2713642</td>\n",
       "    </tr>\n",
       "    <tr>\n",
       "      <th>206</th>\n",
       "      <td>Silent Hill: Revelation 3D</td>\n",
       "      <td>61012</td>\n",
       "      <td>tt0938330</td>\n",
       "    </tr>\n",
       "    <tr>\n",
       "      <th>222</th>\n",
       "      <td>Nesting</td>\n",
       "      <td>104232</td>\n",
       "      <td>tt1705126</td>\n",
       "    </tr>\n",
       "    <tr>\n",
       "      <th>426</th>\n",
       "      <td>The League Of Gentlemen'S Apocalypse</td>\n",
       "      <td>19723</td>\n",
       "      <td>tt0435687</td>\n",
       "    </tr>\n",
       "    <tr>\n",
       "      <th>465</th>\n",
       "      <td>Lewis Black:  Black On Broadway</td>\n",
       "      <td>37801</td>\n",
       "      <td>tt0414224</td>\n",
       "    </tr>\n",
       "    <tr>\n",
       "      <th>94</th>\n",
       "      <td>Deathgasm</td>\n",
       "      <td>323373</td>\n",
       "      <td>tt3705412</td>\n",
       "    </tr>\n",
       "    <tr>\n",
       "      <th>697</th>\n",
       "      <td>Bride Of Chucky</td>\n",
       "      <td>11932</td>\n",
       "      <td>tt0144120</td>\n",
       "    </tr>\n",
       "    <tr>\n",
       "      <th>561</th>\n",
       "      <td>The Lost Skeleton Of Cadavra</td>\n",
       "      <td>18841</td>\n",
       "      <td>tt0307109</td>\n",
       "    </tr>\n",
       "    <tr>\n",
       "      <th>654</th>\n",
       "      <td>Stuart Little</td>\n",
       "      <td>10137</td>\n",
       "      <td>tt0164912</td>\n",
       "    </tr>\n",
       "    <tr>\n",
       "      <th>180</th>\n",
       "      <td>The Conjuring</td>\n",
       "      <td>138843</td>\n",
       "      <td>tt1457767</td>\n",
       "    </tr>\n",
       "    <tr>\n",
       "      <th>181</th>\n",
       "      <td>R.I.P.D.</td>\n",
       "      <td>49524</td>\n",
       "      <td>tt0790736</td>\n",
       "    </tr>\n",
       "  </tbody>\n",
       "</table>\n",
       "</div>"
      ],
      "text/plain": [
       "                                                 title      id    imdb_id\n",
       "566  The Lord Of The Rings: The Fellowship Of The Ring     120  tt0120737\n",
       "176                                          Hell Baby  159092  tt2318527\n",
       "377                  Assume The Position With Mr. Wuhl   63011  tt0788006\n",
       "184                                    Fear Lives Here  238358  tt2235515\n",
       "5                          The Axe Murders Of Villisca  401065  tt3320500\n",
       "488                                          Dead Meat   15689  tt0369359\n",
       "254                                                 51   57812  tt1629439\n",
       "524                                        Ride Or Die   72790  tt0313532\n",
       "128                               Call Girl Of Cthulhu  285598  tt2689354\n",
       "112                                            Darling  352372  tt4126394\n",
       "146                                    Rapture-Palooza  174188  tt1879032\n",
       "277                                              Saint   45756  tt1167675\n",
       "190                                Cockneys Vs Zombies  114606  tt1362058\n",
       "442                                           Pervert!   46333  tt0460898\n",
       "708                          An American Vampire Story   65416  tt0251582\n",
       "552                                           R.S.V.P.   30081  tt0271210\n",
       "120                                     Burying The Ex  255798  tt3339674\n",
       "61                                        The Thinning  419639  tt5254868\n",
       "458                                   Alien Apocalypse   14907  tt0404756\n",
       "145                              Jersey Shore Massacre  288154  tt2713642\n",
       "206                         Silent Hill: Revelation 3D   61012  tt0938330\n",
       "222                                            Nesting  104232  tt1705126\n",
       "426               The League Of Gentlemen'S Apocalypse   19723  tt0435687\n",
       "465                    Lewis Black:  Black On Broadway   37801  tt0414224\n",
       "94                                           Deathgasm  323373  tt3705412\n",
       "697                                    Bride Of Chucky   11932  tt0144120\n",
       "561                       The Lost Skeleton Of Cadavra   18841  tt0307109\n",
       "654                                      Stuart Little   10137  tt0164912\n",
       "180                                      The Conjuring  138843  tt1457767\n",
       "181                                           R.I.P.D.   49524  tt0790736"
      ]
     },
     "execution_count": 62,
     "metadata": {},
     "output_type": "execute_result"
    }
   ],
   "source": [
    "hybrid_recommendations(1, \"The Frighteners\")"
   ]
  },
  {
   "cell_type": "code",
   "execution_count": 63,
   "metadata": {
    "_cell_guid": "381aba27-ecfa-43f1-9dad-c3379a57b8d9",
    "_uuid": "7fc2843807a5fbe792729eee7c74e9cabc6867ca"
   },
   "outputs": [
    {
     "data": {
      "text/html": [
       "<div>\n",
       "<style scoped>\n",
       "    .dataframe tbody tr th:only-of-type {\n",
       "        vertical-align: middle;\n",
       "    }\n",
       "\n",
       "    .dataframe tbody tr th {\n",
       "        vertical-align: top;\n",
       "    }\n",
       "\n",
       "    .dataframe thead th {\n",
       "        text-align: right;\n",
       "    }\n",
       "</style>\n",
       "<table border=\"1\" class=\"dataframe\">\n",
       "  <thead>\n",
       "    <tr style=\"text-align: right;\">\n",
       "      <th></th>\n",
       "      <th>title</th>\n",
       "      <th>id</th>\n",
       "      <th>imdb_id</th>\n",
       "    </tr>\n",
       "  </thead>\n",
       "  <tbody>\n",
       "    <tr>\n",
       "      <th>566</th>\n",
       "      <td>The Lord Of The Rings: The Fellowship Of The Ring</td>\n",
       "      <td>120</td>\n",
       "      <td>tt0120737</td>\n",
       "    </tr>\n",
       "    <tr>\n",
       "      <th>277</th>\n",
       "      <td>Saint</td>\n",
       "      <td>45756</td>\n",
       "      <td>tt1167675</td>\n",
       "    </tr>\n",
       "    <tr>\n",
       "      <th>426</th>\n",
       "      <td>The League Of Gentlemen'S Apocalypse</td>\n",
       "      <td>19723</td>\n",
       "      <td>tt0435687</td>\n",
       "    </tr>\n",
       "    <tr>\n",
       "      <th>697</th>\n",
       "      <td>Bride Of Chucky</td>\n",
       "      <td>11932</td>\n",
       "      <td>tt0144120</td>\n",
       "    </tr>\n",
       "    <tr>\n",
       "      <th>654</th>\n",
       "      <td>Stuart Little</td>\n",
       "      <td>10137</td>\n",
       "      <td>tt0164912</td>\n",
       "    </tr>\n",
       "    <tr>\n",
       "      <th>222</th>\n",
       "      <td>Nesting</td>\n",
       "      <td>104232</td>\n",
       "      <td>tt1705126</td>\n",
       "    </tr>\n",
       "    <tr>\n",
       "      <th>206</th>\n",
       "      <td>Silent Hill: Revelation 3D</td>\n",
       "      <td>61012</td>\n",
       "      <td>tt0938330</td>\n",
       "    </tr>\n",
       "    <tr>\n",
       "      <th>145</th>\n",
       "      <td>Jersey Shore Massacre</td>\n",
       "      <td>288154</td>\n",
       "      <td>tt2713642</td>\n",
       "    </tr>\n",
       "    <tr>\n",
       "      <th>458</th>\n",
       "      <td>Alien Apocalypse</td>\n",
       "      <td>14907</td>\n",
       "      <td>tt0404756</td>\n",
       "    </tr>\n",
       "    <tr>\n",
       "      <th>61</th>\n",
       "      <td>The Thinning</td>\n",
       "      <td>419639</td>\n",
       "      <td>tt5254868</td>\n",
       "    </tr>\n",
       "    <tr>\n",
       "      <th>120</th>\n",
       "      <td>Burying The Ex</td>\n",
       "      <td>255798</td>\n",
       "      <td>tt3339674</td>\n",
       "    </tr>\n",
       "    <tr>\n",
       "      <th>552</th>\n",
       "      <td>R.S.V.P.</td>\n",
       "      <td>30081</td>\n",
       "      <td>tt0271210</td>\n",
       "    </tr>\n",
       "    <tr>\n",
       "      <th>708</th>\n",
       "      <td>An American Vampire Story</td>\n",
       "      <td>65416</td>\n",
       "      <td>tt0251582</td>\n",
       "    </tr>\n",
       "    <tr>\n",
       "      <th>176</th>\n",
       "      <td>Hell Baby</td>\n",
       "      <td>159092</td>\n",
       "      <td>tt2318527</td>\n",
       "    </tr>\n",
       "    <tr>\n",
       "      <th>190</th>\n",
       "      <td>Cockneys Vs Zombies</td>\n",
       "      <td>114606</td>\n",
       "      <td>tt1362058</td>\n",
       "    </tr>\n",
       "    <tr>\n",
       "      <th>442</th>\n",
       "      <td>Pervert!</td>\n",
       "      <td>46333</td>\n",
       "      <td>tt0460898</td>\n",
       "    </tr>\n",
       "    <tr>\n",
       "      <th>94</th>\n",
       "      <td>Deathgasm</td>\n",
       "      <td>323373</td>\n",
       "      <td>tt3705412</td>\n",
       "    </tr>\n",
       "    <tr>\n",
       "      <th>146</th>\n",
       "      <td>Rapture-Palooza</td>\n",
       "      <td>174188</td>\n",
       "      <td>tt1879032</td>\n",
       "    </tr>\n",
       "    <tr>\n",
       "      <th>180</th>\n",
       "      <td>The Conjuring</td>\n",
       "      <td>138843</td>\n",
       "      <td>tt1457767</td>\n",
       "    </tr>\n",
       "    <tr>\n",
       "      <th>112</th>\n",
       "      <td>Darling</td>\n",
       "      <td>352372</td>\n",
       "      <td>tt4126394</td>\n",
       "    </tr>\n",
       "    <tr>\n",
       "      <th>128</th>\n",
       "      <td>Call Girl Of Cthulhu</td>\n",
       "      <td>285598</td>\n",
       "      <td>tt2689354</td>\n",
       "    </tr>\n",
       "    <tr>\n",
       "      <th>524</th>\n",
       "      <td>Ride Or Die</td>\n",
       "      <td>72790</td>\n",
       "      <td>tt0313532</td>\n",
       "    </tr>\n",
       "    <tr>\n",
       "      <th>254</th>\n",
       "      <td>51</td>\n",
       "      <td>57812</td>\n",
       "      <td>tt1629439</td>\n",
       "    </tr>\n",
       "    <tr>\n",
       "      <th>488</th>\n",
       "      <td>Dead Meat</td>\n",
       "      <td>15689</td>\n",
       "      <td>tt0369359</td>\n",
       "    </tr>\n",
       "    <tr>\n",
       "      <th>561</th>\n",
       "      <td>The Lost Skeleton Of Cadavra</td>\n",
       "      <td>18841</td>\n",
       "      <td>tt0307109</td>\n",
       "    </tr>\n",
       "    <tr>\n",
       "      <th>181</th>\n",
       "      <td>R.I.P.D.</td>\n",
       "      <td>49524</td>\n",
       "      <td>tt0790736</td>\n",
       "    </tr>\n",
       "    <tr>\n",
       "      <th>5</th>\n",
       "      <td>The Axe Murders Of Villisca</td>\n",
       "      <td>401065</td>\n",
       "      <td>tt3320500</td>\n",
       "    </tr>\n",
       "    <tr>\n",
       "      <th>184</th>\n",
       "      <td>Fear Lives Here</td>\n",
       "      <td>238358</td>\n",
       "      <td>tt2235515</td>\n",
       "    </tr>\n",
       "    <tr>\n",
       "      <th>377</th>\n",
       "      <td>Assume The Position With Mr. Wuhl</td>\n",
       "      <td>63011</td>\n",
       "      <td>tt0788006</td>\n",
       "    </tr>\n",
       "    <tr>\n",
       "      <th>465</th>\n",
       "      <td>Lewis Black:  Black On Broadway</td>\n",
       "      <td>37801</td>\n",
       "      <td>tt0414224</td>\n",
       "    </tr>\n",
       "  </tbody>\n",
       "</table>\n",
       "</div>"
      ],
      "text/plain": [
       "                                                 title      id    imdb_id\n",
       "566  The Lord Of The Rings: The Fellowship Of The Ring     120  tt0120737\n",
       "277                                              Saint   45756  tt1167675\n",
       "426               The League Of Gentlemen'S Apocalypse   19723  tt0435687\n",
       "697                                    Bride Of Chucky   11932  tt0144120\n",
       "654                                      Stuart Little   10137  tt0164912\n",
       "222                                            Nesting  104232  tt1705126\n",
       "206                         Silent Hill: Revelation 3D   61012  tt0938330\n",
       "145                              Jersey Shore Massacre  288154  tt2713642\n",
       "458                                   Alien Apocalypse   14907  tt0404756\n",
       "61                                        The Thinning  419639  tt5254868\n",
       "120                                     Burying The Ex  255798  tt3339674\n",
       "552                                           R.S.V.P.   30081  tt0271210\n",
       "708                          An American Vampire Story   65416  tt0251582\n",
       "176                                          Hell Baby  159092  tt2318527\n",
       "190                                Cockneys Vs Zombies  114606  tt1362058\n",
       "442                                           Pervert!   46333  tt0460898\n",
       "94                                           Deathgasm  323373  tt3705412\n",
       "146                                    Rapture-Palooza  174188  tt1879032\n",
       "180                                      The Conjuring  138843  tt1457767\n",
       "112                                            Darling  352372  tt4126394\n",
       "128                               Call Girl Of Cthulhu  285598  tt2689354\n",
       "524                                        Ride Or Die   72790  tt0313532\n",
       "254                                                 51   57812  tt1629439\n",
       "488                                          Dead Meat   15689  tt0369359\n",
       "561                       The Lost Skeleton Of Cadavra   18841  tt0307109\n",
       "181                                           R.I.P.D.   49524  tt0790736\n",
       "5                          The Axe Murders Of Villisca  401065  tt3320500\n",
       "184                                    Fear Lives Here  238358  tt2235515\n",
       "377                  Assume The Position With Mr. Wuhl   63011  tt0788006\n",
       "465                    Lewis Black:  Black On Broadway   37801  tt0414224"
      ]
     },
     "execution_count": 63,
     "metadata": {},
     "output_type": "execute_result"
    }
   ],
   "source": [
    "content_recommendations(\"The Frighteners\")"
   ]
  },
  {
   "cell_type": "code",
   "execution_count": 64,
   "metadata": {
    "_cell_guid": "304b0809-4070-4954-99ed-203a4b8b6956",
    "_uuid": "e53889f19f6d352bb0418567941dff8f9e57da41"
   },
   "outputs": [
    {
     "data": {
      "text/html": [
       "<div>\n",
       "<style scoped>\n",
       "    .dataframe tbody tr th:only-of-type {\n",
       "        vertical-align: middle;\n",
       "    }\n",
       "\n",
       "    .dataframe tbody tr th {\n",
       "        vertical-align: top;\n",
       "    }\n",
       "\n",
       "    .dataframe thead th {\n",
       "        text-align: right;\n",
       "    }\n",
       "</style>\n",
       "<table border=\"1\" class=\"dataframe\">\n",
       "  <thead>\n",
       "    <tr style=\"text-align: right;\">\n",
       "      <th></th>\n",
       "      <th>userId</th>\n",
       "      <th>userName</th>\n",
       "      <th>movieId</th>\n",
       "      <th>movieTitle</th>\n",
       "      <th>rating</th>\n",
       "      <th>review</th>\n",
       "    </tr>\n",
       "  </thead>\n",
       "  <tbody>\n",
       "    <tr>\n",
       "      <th>0</th>\n",
       "      <td>1000</td>\n",
       "      <td>karim</td>\n",
       "      <td>170827</td>\n",
       "      <td>test1</td>\n",
       "      <td>4.5</td>\n",
       "      <td>good</td>\n",
       "    </tr>\n",
       "  </tbody>\n",
       "</table>\n",
       "</div>"
      ],
      "text/plain": [
       "   userId userName   movieId movieTitle  rating review\n",
       "0    1000     karim   170827      test1     4.5   good"
      ]
     },
     "execution_count": 64,
     "metadata": {},
     "output_type": "execute_result"
    }
   ],
   "source": [
    "post_user_ratings(1000 ,\"karim\" , 282035 , \"test1\" , 4.5 , \"good\")"
   ]
  },
  {
   "cell_type": "code",
   "execution_count": 65,
   "metadata": {},
   "outputs": [
    {
     "data": {
      "text/html": [
       "<div>\n",
       "<style scoped>\n",
       "    .dataframe tbody tr th:only-of-type {\n",
       "        vertical-align: middle;\n",
       "    }\n",
       "\n",
       "    .dataframe tbody tr th {\n",
       "        vertical-align: top;\n",
       "    }\n",
       "\n",
       "    .dataframe thead th {\n",
       "        text-align: right;\n",
       "    }\n",
       "</style>\n",
       "<table border=\"1\" class=\"dataframe\">\n",
       "  <thead>\n",
       "    <tr style=\"text-align: right;\">\n",
       "      <th></th>\n",
       "      <th>userId</th>\n",
       "      <th>userName</th>\n",
       "      <th>movieId</th>\n",
       "      <th>movieTitle</th>\n",
       "      <th>rating</th>\n",
       "      <th>review</th>\n",
       "    </tr>\n",
       "  </thead>\n",
       "  <tbody>\n",
       "    <tr>\n",
       "      <th>0</th>\n",
       "      <td>1000</td>\n",
       "      <td>karim</td>\n",
       "      <td>170827</td>\n",
       "      <td>test1</td>\n",
       "      <td>4.5</td>\n",
       "      <td>good</td>\n",
       "    </tr>\n",
       "  </tbody>\n",
       "</table>\n",
       "</div>"
      ],
      "text/plain": [
       "   userId userName   movieId movieTitle  rating review\n",
       "0    1000     karim   170827      test1     4.5   good"
      ]
     },
     "execution_count": 65,
     "metadata": {},
     "output_type": "execute_result"
    }
   ],
   "source": [
    "get_user_ratings"
   ]
  },
  {
   "cell_type": "code",
   "execution_count": null,
   "metadata": {},
   "outputs": [],
   "source": []
  }
 ],
 "metadata": {
  "kernelspec": {
   "display_name": "Python 3 (ipykernel)",
   "language": "python",
   "name": "python3"
  },
  "language_info": {
   "codemirror_mode": {
    "name": "ipython",
    "version": 3
   },
   "file_extension": ".py",
   "mimetype": "text/x-python",
   "name": "python",
   "nbconvert_exporter": "python",
   "pygments_lexer": "ipython3",
   "version": "3.9.12"
  }
 },
 "nbformat": 4,
 "nbformat_minor": 1
}
